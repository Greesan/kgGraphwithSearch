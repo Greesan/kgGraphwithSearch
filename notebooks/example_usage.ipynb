{
 "cells": [
  {
   "cell_type": "markdown",
   "metadata": {},
   "source": [
    "# Knowledge Graph with You.com Search Integration\n",
    "\n",
    "This notebook demonstrates how to use the temporal agents with knowledge graphs and You.com search API."
   ]
  },
  {
   "cell_type": "markdown",
   "metadata": {},
   "source": [
    "## Setup\n",
    "\n",
    "Make sure you have:\n",
    "1. Created a `.env` file with your API keys\n",
    "2. Installed all dependencies with `uv sync`"
   ]
  },
  {
   "cell_type": "code",
   "execution_count": null,
   "metadata": {},
   "outputs": [],
   "source": [
    "import sys\n",
    "from pathlib import Path\n",
    "\n",
    "# Add src to path\n",
    "sys.path.insert(0, str(Path.cwd().parent / \"src\"))\n",
    "\n",
    "from kg_graph_search.config import get_settings\n",
    "from kg_graph_search.graph.database import KnowledgeGraphDB\n",
    "from kg_graph_search.graph.models import Entity, Triplet, TemporalValidityRange\n",
    "from kg_graph_search.search.you_client import YouAPIClient\n",
    "\n",
    "# Load settings\n",
    "settings = get_settings()\n",
    "print(\"✓ Configuration loaded\")"
   ]
  },
  {
   "cell_type": "markdown",
   "metadata": {},
   "source": [
    "## 1. You.com Search Example"
   ]
  },
  {
   "cell_type": "code",
   "execution_count": null,
   "metadata": {},
   "outputs": [],
   "source": [
    "# Initialize You.com client\n",
    "you_client = YouAPIClient(api_key=settings.you_api_key)\n",
    "\n",
    "# Perform a search\n",
    "query = \"temporal knowledge graphs\"\n",
    "results = you_client.search(query, num_results=5)\n",
    "\n",
    "print(f\"Search results for: {results.query}\\n\")\n",
    "for i, result in enumerate(results.results, 1):\n",
    "    print(f\"{i}. {result.title}\")\n",
    "    print(f\"   URL: {result.url}\")\n",
    "    print(f\"   {result.snippet[:150]}...\\n\")"
   ]
  },
  {
   "cell_type": "markdown",
   "metadata": {},
   "source": [
    "## 2. Knowledge Graph Database Example"
   ]
  },
  {
   "cell_type": "code",
   "execution_count": null,
   "metadata": {},
   "outputs": [],
   "source": [
    "# Initialize the knowledge graph database\n",
    "db = KnowledgeGraphDB(settings.db_path)\n",
    "\n",
    "# Create some example entities\n",
    "alice = Entity(name=\"Alice\", entity_type=\"Person\", description=\"Software engineer\")\n",
    "bob = Entity(name=\"Bob\", entity_type=\"Person\", description=\"Data scientist\")\n",
    "company = Entity(name=\"TechCorp\", entity_type=\"Organization\", description=\"Technology company\")\n",
    "\n",
    "# Add entities to database\n",
    "alice_id = db.add_entity(alice)\n",
    "bob_id = db.add_entity(bob)\n",
    "company_id = db.add_entity(company)\n",
    "\n",
    "print(f\"Added entities:\")\n",
    "print(f\"  Alice (ID: {alice_id})\")\n",
    "print(f\"  Bob (ID: {bob_id})\")\n",
    "print(f\"  TechCorp (ID: {company_id})\")"
   ]
  },
  {
   "cell_type": "code",
   "execution_count": null,
   "metadata": {},
   "outputs": [],
   "source": [
    "from datetime import datetime\n",
    "\n",
    "# Create relationships (triplets)\n",
    "triplet1 = Triplet(\n",
    "    subject_id=alice_id,\n",
    "    subject_name=\"Alice\",\n",
    "    predicate=\"works_at\",\n",
    "    object_id=company_id,\n",
    "    object_name=\"TechCorp\",\n",
    "    temporal_validity=TemporalValidityRange(\n",
    "        start_time=datetime(2023, 1, 1),\n",
    "        is_current=True\n",
    "    ),\n",
    "    confidence=1.0,\n",
    "    source=\"manual_entry\"\n",
    ")\n",
    "\n",
    "triplet2 = Triplet(\n",
    "    subject_id=bob_id,\n",
    "    subject_name=\"Bob\",\n",
    "    predicate=\"works_at\",\n",
    "    object_id=company_id,\n",
    "    object_name=\"TechCorp\",\n",
    "    temporal_validity=TemporalValidityRange(\n",
    "        start_time=datetime(2022, 6, 1),\n",
    "        is_current=True\n",
    "    ),\n",
    "    confidence=1.0,\n",
    "    source=\"manual_entry\"\n",
    ")\n",
    "\n",
    "triplet3 = Triplet(\n",
    "    subject_id=alice_id,\n",
    "    subject_name=\"Alice\",\n",
    "    predicate=\"collaborates_with\",\n",
    "    object_id=bob_id,\n",
    "    object_name=\"Bob\",\n",
    "    confidence=0.9,\n",
    "    source=\"manual_entry\"\n",
    ")\n",
    "\n",
    "# Add triplets to database\n",
    "db.add_triplet(triplet1)\n",
    "db.add_triplet(triplet2)\n",
    "db.add_triplet(triplet3)\n",
    "\n",
    "print(\"✓ Added relationships to knowledge graph\")"
   ]
  },
  {
   "cell_type": "code",
   "execution_count": null,
   "metadata": {},
   "outputs": [],
   "source": [
    "# Query the knowledge graph\n",
    "alice_relationships = db.get_triplets_for_entity(alice_id, as_subject=True)\n",
    "\n",
    "print(f\"\\nAlice's relationships:\")\n",
    "for rel in alice_relationships:\n",
    "    print(f\"  {rel.subject_name} --[{rel.predicate}]--> {rel.object_name}\")\n",
    "    if rel.temporal_validity:\n",
    "        print(f\"    Valid from: {rel.temporal_validity.start_time}\")\n",
    "        print(f\"    Is current: {rel.temporal_validity.is_current}\")\n",
    "    print(f\"    Confidence: {rel.confidence}\")"
   ]
  },
  {
   "cell_type": "code",
   "execution_count": null,
   "metadata": {},
   "outputs": [],
   "source": [
    "# Search for entities\n",
    "search_results = db.search_entities(\"Tech\")\n",
    "\n",
    "print(\"\\nSearch results for 'Tech':\")\n",
    "for entity in search_results:\n",
    "    print(f\"  {entity.name} ({entity.entity_type}): {entity.description}\")"
   ]
  },
  {
   "cell_type": "markdown",
   "metadata": {},
   "source": [
    "## 3. Combining Search with Knowledge Graph\n",
    "\n",
    "This example shows how to use You.com search results to populate a knowledge graph."
   ]
  },
  {
   "cell_type": "code",
   "execution_count": null,
   "metadata": {},
   "outputs": [],
   "source": [
    "# Search for a topic\n",
    "topic_query = \"OpenAI GPT-4\"\n",
    "search_results = you_client.search(topic_query, num_results=3)\n",
    "\n",
    "# Create entities from search results\n",
    "for result in search_results.results:\n",
    "    # Create an entity for the source\n",
    "    source_entity = Entity(\n",
    "        name=result.title,\n",
    "        entity_type=\"WebPage\",\n",
    "        description=result.snippet[:200]\n",
    "    )\n",
    "    source_id = db.add_entity(source_entity)\n",
    "    \n",
    "    # Create a topic entity\n",
    "    topic_entity = Entity(\n",
    "        name=topic_query,\n",
    "        entity_type=\"Topic\",\n",
    "        description=f\"Search topic: {topic_query}\"\n",
    "    )\n",
    "    topic_id = db.add_entity(topic_entity)\n",
    "    \n",
    "    # Create a relationship\n",
    "    triplet = Triplet(\n",
    "        subject_id=source_id,\n",
    "        subject_name=result.title,\n",
    "        predicate=\"discusses\",\n",
    "        object_id=topic_id,\n",
    "        object_name=topic_query,\n",
    "        confidence=0.8,\n",
    "        source=result.url\n",
    "    )\n",
    "    db.add_triplet(triplet)\n",
    "\n",
    "print(f\"✓ Added {len(search_results.results)} search results to knowledge graph\")"
   ]
  },
  {
   "cell_type": "code",
   "execution_count": null,
   "metadata": {},
   "outputs": [],
   "source": [
    "# Clean up\n",
    "db.close()\n",
    "you_client.close()\n",
    "print(\"\\n✓ Cleanup complete\")"
   ]
  }
 ],
 "metadata": {
  "kernelspec": {
   "display_name": "Python 3",
   "language": "python",
   "name": "python3"
  },
  "language_info": {
   "codemirror_mode": {
    "name": "ipython",
    "version": 3
   },
   "file_extension": ".py",
   "mimetype": "text/x-python",
   "name": "python",
   "nbconvert_exporter": "python",
   "pygments_lexer": "ipython3",
   "version": "3.12.0"
  }
 },
 "nbformat": 4,
 "nbformat_minor": 4
}
